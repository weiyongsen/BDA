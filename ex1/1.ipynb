{
 "cells": [
  {
   "cell_type": "code",
   "execution_count": 147,
   "metadata": {},
   "outputs": [],
   "source": [
    "import csv\n",
    "import numpy as np\n",
    "import re\n",
    "\n",
    "maxsize = 10000 # 最多处理的数据行数\n",
    "\n",
    "filename = \"数据集_找到网人力资源数据.csv\"\n",
    "with open(filename,'r',encoding='GB18030') as f:\n",
    "    f_csv = csv.reader(f)\n",
    "    headers = next(f_csv)\n",
    "    clen = len(headers) # 列长度\n",
    "    cnt = 0\n",
    "    data_ori = []\n",
    "    for row in f_csv:\n",
    "        cnt += 1\n",
    "        # 边缘空格的处理\n",
    "        for j in range(clen):\n",
    "            row[j] = row[j].strip()\n",
    "        data_ori.append(row)\n",
    "        if(cnt == maxsize):\n",
    "            break;\n",
    "    data = np.array(data_ori)\n",
    "\n",
    "rlen = len(data)    # 行长度\n",
    "\n",
    "dict = {}       # 创建字典来保存列数据,可通过中文名称访问，便于后续处理\n",
    "for i in range(len(headers)):\n",
    "    dict[headers[i]] = data[:,i]\n",
    "\n"
   ]
  },
  {
   "cell_type": "code",
   "execution_count": 101,
   "metadata": {},
   "outputs": [
    {
     "name": "stdout",
     "output_type": "stream",
     "text": [
      "5602 973387486\n"
     ]
    }
   ],
   "source": [
    "# 处理电话号码\n",
    "def phone_check(str):\n",
    "    pattern = re.compile(r'^(13[0-9]|14[0|5|6|7|9]|15[0|1|2|3|5|6|7|8|9]|'\n",
    "                            r'16[2|5|6|7]|17[0|1|2|3|5|6|7|8]|18[0-9]|'\n",
    "                            r'19[1|3|5|6|7|8|9])\\d{8}$')\n",
    "    return bool(pattern.search(str))\n",
    "\n",
    "for i in range(rlen):\n",
    "    if phone_check( dict['tel'][i] )==1 or dict['tel'][i] == '':\n",
    "        continue\n",
    "    else:\n",
    "        print(i,dict['tel'][i])\n",
    "        # dict['tel'][i] = ''"
   ]
  },
  {
   "cell_type": "code",
   "execution_count": 102,
   "metadata": {},
   "outputs": [],
   "source": [
    "# 处理邮件\n",
    "def email_check(str):\n",
    "    pattern = re.compile(r'^\\w+([-+.]\\w+)*@\\w+([-.]\\w+)*\\.\\w+([-.]\\w+)*$')\n",
    "\n",
    "    return bool(pattern.search(str))\n",
    "\n",
    "for i in range(rlen):\n",
    "    if email_check( dict['email'][i] )==1 or dict['email'][i] == '':\n",
    "        continue\n",
    "    else:\n",
    "        print(i,dict['email'][i])\n",
    "        # dict['email'][i] = ''"
   ]
  },
  {
   "cell_type": "code",
   "execution_count": 103,
   "metadata": {},
   "outputs": [
    {
     "name": "stdout",
     "output_type": "stream",
     "text": [
      "[2.e+06 1.e+06 0.e+00 ... 1.e+08 5.e+07 0.e+00]\n",
      "500000.0\n"
     ]
    }
   ],
   "source": [
    "# 处理注册资金\n",
    "def money_check(str):\n",
    "    pattern = re.compile(r'[ \\u5143 | \\u4e07 | \\u4ebf]$')   # 以元，万，亿结尾\n",
    "\n",
    "    return bool(pattern.search(str))\n",
    "\n",
    "money = []  # 记录数字形式的资金\n",
    "\n",
    "for i in range(rlen):\n",
    "    if money_check( dict['注册资金'][i] )==1:\n",
    "        dict['注册资金'][i] = dict['注册资金'][i].replace('元','')\n",
    "        dict['注册资金'][i] = dict['注册资金'][i].replace('万','e4')\n",
    "        dict['注册资金'][i] = dict['注册资金'][i].replace('亿','e8')\n",
    "        money.append(eval(dict['注册资金'][i]))\n",
    "    else:   # 不合规范或者为空的时候\n",
    "        money.append(0)\n",
    "    \n",
    "dict['注册资金'] = np.array(money)  # 由str变为int数组"
   ]
  },
  {
   "cell_type": "code",
   "execution_count": 156,
   "metadata": {},
   "outputs": [],
   "source": [
    "# 部门-职务\n",
    "depart = []\n",
    "for i in range(rlen):\n",
    "    depart.append(dict['部门-职务'][i].strip().split(\" \"))\n",
    "    if (len(depart[i])<2):\n",
    "        depart[i].append(\"\")\n",
    "    if (len(depart[i])>2):\n",
    "        del depart[i][0:len(depart[i])-2]\n",
    "\n",
    "dict['部门-职务'] = np.array(depart)"
   ]
  },
  {
   "cell_type": "code",
   "execution_count": null,
   "metadata": {},
   "outputs": [],
   "source": []
  }
 ],
 "metadata": {
  "interpreter": {
   "hash": "f94055e97f51ddfa7d9cd102fb05edcbeb6bf63bb7fd3b128357cbdb378bd053"
  },
  "kernelspec": {
   "display_name": "Python 3.7.5 ('tensorflow')",
   "language": "python",
   "name": "python3"
  },
  "language_info": {
   "codemirror_mode": {
    "name": "ipython",
    "version": 3
   },
   "file_extension": ".py",
   "mimetype": "text/x-python",
   "name": "python",
   "nbconvert_exporter": "python",
   "pygments_lexer": "ipython3",
   "version": "3.7.5"
  },
  "orig_nbformat": 4
 },
 "nbformat": 4,
 "nbformat_minor": 2
}
