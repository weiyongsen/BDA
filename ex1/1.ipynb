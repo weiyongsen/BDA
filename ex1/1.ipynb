{
 "cells": [
  {
   "cell_type": "code",
   "execution_count": 191,
   "metadata": {},
   "outputs": [],
   "source": [
    "import csv\n",
    "import numpy as np\n",
    "import re\n",
    "\n",
    "maxsize = 10000 # 最多处理的数据行数\n",
    "\n",
    "filename = \"数据集_找到网人力资源数据.csv\"\n",
    "with open(filename,'r',encoding='GB18030') as f:\n",
    "    f_csv = csv.reader(f)\n",
    "    headers = next(f_csv)\n",
    "    clen = len(headers) # 列长度\n",
    "    cnt = 0\n",
    "    data_ori = []\n",
    "    for row in f_csv:\n",
    "        cnt += 1\n",
    "        # 边缘空格的处理\n",
    "        for j in range(clen):\n",
    "            row[j] = row[j].strip()\n",
    "        data_ori.append(row)\n",
    "        if(cnt == maxsize):\n",
    "            break;\n",
    "    data = np.array(data_ori)\n",
    "\n",
    "rlen = len(data)    # 行长度\n",
    "\n",
    "dict = {}       # 创建字典来保存列数据,可通过中文名称访问，便于后续处理\n",
    "for i in range(len(headers)):\n",
    "    dict[headers[i]] = data[:,i]\n",
    "\n"
   ]
  },
  {
   "cell_type": "code",
   "execution_count": 101,
   "metadata": {},
   "outputs": [
    {
     "name": "stdout",
     "output_type": "stream",
     "text": [
      "5602 973387486\n"
     ]
    }
   ],
   "source": [
    "# 处理电话号码\n",
    "def phone_check(str):\n",
    "    pattern = re.compile(r'^(13[0-9]|14[0|5|6|7|9]|15[0|1|2|3|5|6|7|8|9]|'\n",
    "                            r'16[2|5|6|7]|17[0|1|2|3|5|6|7|8]|18[0-9]|'\n",
    "                            r'19[1|3|5|6|7|8|9])\\d{8}$')\n",
    "    return bool(pattern.search(str))\n",
    "\n",
    "for i in range(rlen):\n",
    "    if phone_check( dict['tel'][i] )==1 or dict['tel'][i] == '':\n",
    "        continue\n",
    "    else:\n",
    "        print(i,dict['tel'][i])\n",
    "        # dict['tel'][i] = ''"
   ]
  },
  {
   "cell_type": "code",
   "execution_count": 102,
   "metadata": {},
   "outputs": [],
   "source": [
    "# 处理邮件\n",
    "def email_check(str):\n",
    "    pattern = re.compile(r'^\\w+([-+.]\\w+)*@\\w+([-.]\\w+)*\\.\\w+([-.]\\w+)*$')\n",
    "\n",
    "    return bool(pattern.search(str))\n",
    "\n",
    "for i in range(rlen):\n",
    "    if email_check( dict['email'][i] )==1 or dict['email'][i] == '':\n",
    "        continue\n",
    "    else:\n",
    "        print(i,dict['email'][i])\n",
    "        dict['email'][i] = ''"
   ]
  },
  {
   "cell_type": "code",
   "execution_count": 163,
   "metadata": {},
   "outputs": [],
   "source": [
    "# 处理注册资金\n",
    "def money_check(str):\n",
    "    pattern = re.compile(r'[ \\u5143 | \\u4e07 | \\u4ebf]$')   # 以元，万，亿结尾\n",
    "\n",
    "    return bool(pattern.search(str))\n",
    "\n",
    "money = []  # 记录数字形式的资金\n",
    "\n",
    "for i in range(rlen):\n",
    "    if money_check( dict['注册资金'][i] )==1:\n",
    "        dict['注册资金'][i] = dict['注册资金'][i].replace('元','')\n",
    "        dict['注册资金'][i] = dict['注册资金'][i].replace('万','e4')\n",
    "        dict['注册资金'][i] = dict['注册资金'][i].replace('亿','e8')\n",
    "        money.append(eval(dict['注册资金'][i]))\n",
    "    else:   # 不合规范或者为空的时候\n",
    "        money.append(0)\n",
    "    \n",
    "dict['注册资金'] = np.array(money).astype(int)  # 由str变为int数组\n",
    "\n",
    "\n",
    "\n",
    "# 数据概化\n",
    "# 注册资金等级\n",
    "money_level = [\"1000万以下\",\"1000万以上5000万以下\",\"5000万以上1亿以下\",\"1亿以上\"]\n",
    "money_digit = []\n",
    "for i in range(rlen):\n",
    "    if dict['注册资金'][i] <= 1e7:\n",
    "        money_digit.append(0)\n",
    "    elif dict['注册资金'][i] <= 5e7:\n",
    "        money_digit.append(1)\n",
    "    elif dict['注册资金'][i] <= 1e8:\n",
    "        money_digit.append(2)\n",
    "    else:\n",
    "        money_digit.append(3)\n",
    "\n",
    "dict['注册资金等级'] = np.array(money_digit)"
   ]
  },
  {
   "cell_type": "code",
   "execution_count": 192,
   "metadata": {},
   "outputs": [],
   "source": [
    "# 部门-职务\n",
    "depart = []\n",
    "for i in range(rlen):\n",
    "    depart.append(dict['部门-职务'][i].strip().split(\" \"))\n",
    "    if (len(depart[i])<2):\n",
    "        depart[i].append(\"\")\n",
    "    if (len(depart[i])>2):\n",
    "        del depart[i][0:len(depart[i])-2]\n",
    "\n",
    "dict['部门-职务'] = np.array(depart)"
   ]
  },
  {
   "cell_type": "code",
   "execution_count": null,
   "metadata": {},
   "outputs": [],
   "source": [
    "# 职业等级 job_level\n",
    "job_level = ['a','b','c','d','e']\n",
    "pattern_jla = re.compile(r'董事|主席')\n",
    "pattern_jlb = re.compile(r'总经理|总裁|副总经理')\n",
    "pattern_jlc = re.compile(r'总监|副总监|经理|副经理|主任|主管')\n",
    "pattern_jld = re.compile(r'工程师|\\w{1,2}员$|实习生')\n",
    "pattern_job_level = [pattern_jla,pattern_jlb,pattern_jlc,pattern_jld]\n",
    "job_level_temp = []\n",
    "for i in range(rlen):\n",
    "    flag = 0\n",
    "    for j in range(len(job_level)-1):\n",
    "        if (pattern_job_level[j].search(dict['部门-职务'][i,1])):\n",
    "            job_level_temp.append(job_level[j])\n",
    "            flag = 1\n",
    "            break\n",
    "    if flag == 0:\n",
    "        job_level_temp.append('e')\n",
    "\n",
    "dict['职务等级'] = np.array(job_level_temp)\n",
    "# print(len(job_level_temp))\n",
    "# for i in range(rlen):\n",
    "#     print(dict['部门-职务'][i,1],dict['职务等级'][i])"
   ]
  },
  {
   "cell_type": "code",
   "execution_count": null,
   "metadata": {},
   "outputs": [],
   "source": [
    "# 工作类别 job_class\n",
    "job_class = [\"市场类\",\"技术类\",\"营销类\",\"其他类\"]\n",
    "pattern_jca = re.compile(r'销售|市场|客户')\n",
    "pattern_jcb = re.compile(r'业务|技术|项目')\n",
    "pattern_jcc = re.compile(r'营销|宣传')\n",
    "pattern_jcd = re.compile(r'财务|运营|行政|人力')\n",
    "pattern_job_class = [pattern_jca,pattern_jcb,pattern_jcc,pattern_jcd]\n",
    "job_class_temp = []\n",
    "for i in range(rlen):\n",
    "    flag = 0\n",
    "    for j in range(len(job_class)-1):\n",
    "        if (pattern_job_class[j].search(dict['部门-职务'][i,0])):\n",
    "            job_class_temp.append(job_class[j])\n",
    "            flag = 1\n",
    "            break\n",
    "    if flag == 0:\n",
    "        job_class_temp.append(\"其他类\")\n",
    "\n",
    "dict['工作类别'] = np.array(job_class_temp)\n",
    "# print(len(job_class_temp))\n",
    "# for i in range(rlen):\n",
    "#     print(dict['部门-职务'][i,0],dict['工作类别'][i])"
   ]
  }
 ],
 "metadata": {
  "interpreter": {
   "hash": "f94055e97f51ddfa7d9cd102fb05edcbeb6bf63bb7fd3b128357cbdb378bd053"
  },
  "kernelspec": {
   "display_name": "Python 3.7.5 ('tensorflow')",
   "language": "python",
   "name": "python3"
  },
  "language_info": {
   "codemirror_mode": {
    "name": "ipython",
    "version": 3
   },
   "file_extension": ".py",
   "mimetype": "text/x-python",
   "name": "python",
   "nbconvert_exporter": "python",
   "pygments_lexer": "ipython3",
   "version": "3.7.5"
  },
  "orig_nbformat": 4
 },
 "nbformat": 4,
 "nbformat_minor": 2
}
